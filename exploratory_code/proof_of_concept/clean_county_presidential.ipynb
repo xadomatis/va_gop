{
 "cells": [
  {
   "cell_type": "code",
   "execution_count": 1,
   "metadata": {},
   "outputs": [],
   "source": [
    "import pandas as pd\n",
    "import json"
   ]
  },
  {
   "cell_type": "code",
   "execution_count": 2,
   "metadata": {},
   "outputs": [],
   "source": [
    "f = open('data/raw/va_2016_GOP_county.json')\n",
    "df = json.load(f)"
   ]
  },
  {
   "cell_type": "code",
   "execution_count": 9,
   "metadata": {},
   "outputs": [],
   "source": [
    "vote_list = []\n",
    "for i in range(len(df[\"Localities\"])):\n",
    "    county = pd.DataFrame(df['Localities'])[\"Locality\"][i]['LocalityName']\n",
    "    votes = pd.DataFrame(pd.DataFrame(df['Localities'])[\"Candidates\"][i])\n",
    "    votes[\"County\"] = county\n",
    "    votes = votes.pivot(index = \"County\", columns = 'BallotName', values = 'Votes').reset_index()\n",
    "    vote_list.append(votes)"
   ]
  },
  {
   "cell_type": "code",
   "execution_count": 11,
   "metadata": {},
   "outputs": [],
   "source": [
    "pd.concat(vote_list).to_csv(\"va_2016_prez_county.csv\")"
   ]
  }
 ],
 "metadata": {
  "kernelspec": {
   "display_name": "Python 3",
   "language": "python",
   "name": "python3"
  },
  "language_info": {
   "codemirror_mode": {
    "name": "ipython",
    "version": 3
   },
   "file_extension": ".py",
   "mimetype": "text/x-python",
   "name": "python",
   "nbconvert_exporter": "python",
   "pygments_lexer": "ipython3",
   "version": "3.8.5"
  }
 },
 "nbformat": 4,
 "nbformat_minor": 4
}
