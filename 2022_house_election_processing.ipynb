{
 "cells": [
  {
   "cell_type": "code",
   "execution_count": 1,
   "metadata": {},
   "outputs": [],
   "source": [
    "import requests\n",
    "import pandas as pd\n",
    "from bs4 import BeautifulSoup"
   ]
  },
  {
   "cell_type": "code",
   "execution_count": 2,
   "metadata": {},
   "outputs": [],
   "source": [
    "url = \"https://results.elections.virginia.gov/vaelections/2022%20June%20Republican%20Primary/Site/Member_House_of_Representatives_(02).html\"\n",
    "prefix = 'https://results.elections.virginia.gov/vaelections/2022%20June%20Republican%20Primary/Site' "
   ]
  },
  {
   "cell_type": "code",
   "execution_count": 4,
   "metadata": {},
   "outputs": [],
   "source": [
    "reqs = requests.get(url)\n",
    "soup = BeautifulSoup(reqs.text, 'html.parser')\n",
    " \n",
    "urls = []\n",
    "for link in soup.find_all('a'):\n",
    "    urls.append(link.get('href'))"
   ]
  },
  {
   "cell_type": "code",
   "execution_count": 18,
   "metadata": {},
   "outputs": [],
   "source": [
    "county_urls = urls[-10:-2]"
   ]
  },
  {
   "cell_type": "code",
   "execution_count": 31,
   "metadata": {},
   "outputs": [],
   "source": [
    "suffix = county_urls[0]\n",
    "curl = prefix + suffix[1:]"
   ]
  },
  {
   "cell_type": "code",
   "execution_count": 33,
   "metadata": {},
   "outputs": [],
   "source": [
    "creqs = requests.get(curl)\n",
    "csoup = BeautifulSoup(creqs.text, 'html.parser')"
   ]
  },
  {
   "cell_type": "code",
   "execution_count": 90,
   "metadata": {},
   "outputs": [],
   "source": [
    "ids = list(range(16,116,5))"
   ]
  },
  {
   "cell_type": "code",
   "execution_count": 92,
   "metadata": {},
   "outputs": [
    {
     "name": "stderr",
     "output_type": "stream",
     "text": [
      "/Users/xavier/opt/anaconda3/lib/python3.8/site-packages/pandas/core/internals/construction.py:305: VisibleDeprecationWarning: Creating an ndarray from ragged nested sequences (which is a list-or-tuple of lists-or-tuples-or ndarrays with different lengths or shapes) is deprecated. If you meant to do this, you must specify 'dtype=object' when creating the ndarray\n",
      "  values = np.array([convert(v) for v in values])\n"
     ]
    }
   ],
   "source": [
    "text = pd.DataFrame(csoup.find_all('span'))"
   ]
  },
  {
   "cell_type": "code",
   "execution_count": 86,
   "metadata": {},
   "outputs": [
    {
     "data": {
      "text/plain": [
       "<span>901 - PAINTER (02)</span>"
      ]
     },
     "execution_count": 86,
     "metadata": {},
     "output_type": "execute_result"
    }
   ],
   "source": [
    "# First table\n",
    "csoup.find_all('span')[4]\n",
    "# More table names 4, 10, 16, 21, 26, 31, \n",
    "csoup.find_all('span')[111]"
   ]
  },
  {
   "cell_type": "code",
   "execution_count": 37,
   "metadata": {},
   "outputs": [
    {
     "data": {
      "text/html": [
       "<div>\n",
       "<style scoped>\n",
       "    .dataframe tbody tr th:only-of-type {\n",
       "        vertical-align: middle;\n",
       "    }\n",
       "\n",
       "    .dataframe tbody tr th {\n",
       "        vertical-align: top;\n",
       "    }\n",
       "\n",
       "    .dataframe thead th {\n",
       "        text-align: right;\n",
       "    }\n",
       "</style>\n",
       "<table border=\"1\" class=\"dataframe\">\n",
       "  <thead>\n",
       "    <tr style=\"text-align: right;\">\n",
       "      <th></th>\n",
       "      <th>Candidate</th>\n",
       "      <th>Votes</th>\n",
       "      <th>Percent</th>\n",
       "    </tr>\n",
       "  </thead>\n",
       "  <tbody>\n",
       "    <tr>\n",
       "      <th>0</th>\n",
       "      <td>Jarome Bell  Republican</td>\n",
       "      <td>11330</td>\n",
       "      <td>27.08%</td>\n",
       "    </tr>\n",
       "    <tr>\n",
       "      <th>1</th>\n",
       "      <td>Andrew G. \"Andy\" Baan  Republican</td>\n",
       "      <td>1237</td>\n",
       "      <td>2.96%</td>\n",
       "    </tr>\n",
       "    <tr>\n",
       "      <th>2</th>\n",
       "      <td>L. Tommy Altman III  Republican</td>\n",
       "      <td>5972</td>\n",
       "      <td>14.27%</td>\n",
       "    </tr>\n",
       "    <tr>\n",
       "      <th>3</th>\n",
       "      <td>Jen A. Kiggans  Republican</td>\n",
       "      <td>23300</td>\n",
       "      <td>55.69%</td>\n",
       "    </tr>\n",
       "    <tr>\n",
       "      <th>4</th>\n",
       "      <td>Jarome Bell  Republican</td>\n",
       "      <td>1006</td>\n",
       "      <td>52.34%</td>\n",
       "    </tr>\n",
       "    <tr>\n",
       "      <th>...</th>\n",
       "      <td>...</td>\n",
       "      <td>...</td>\n",
       "      <td>...</td>\n",
       "    </tr>\n",
       "    <tr>\n",
       "      <th>83</th>\n",
       "      <td>Jen A. Kiggans  Republican</td>\n",
       "      <td>35</td>\n",
       "      <td>37.23%</td>\n",
       "    </tr>\n",
       "    <tr>\n",
       "      <th>84</th>\n",
       "      <td>Jarome Bell  Republican</td>\n",
       "      <td>63</td>\n",
       "      <td>44.68%</td>\n",
       "    </tr>\n",
       "    <tr>\n",
       "      <th>85</th>\n",
       "      <td>Andrew G. \"Andy\" Baan  Republican</td>\n",
       "      <td>4</td>\n",
       "      <td>2.84%</td>\n",
       "    </tr>\n",
       "    <tr>\n",
       "      <th>86</th>\n",
       "      <td>L. Tommy Altman III  Republican</td>\n",
       "      <td>10</td>\n",
       "      <td>7.09%</td>\n",
       "    </tr>\n",
       "    <tr>\n",
       "      <th>87</th>\n",
       "      <td>Jen A. Kiggans  Republican</td>\n",
       "      <td>64</td>\n",
       "      <td>45.39%</td>\n",
       "    </tr>\n",
       "  </tbody>\n",
       "</table>\n",
       "<p>88 rows × 3 columns</p>\n",
       "</div>"
      ],
      "text/plain": [
       "                            Candidate  Votes Percent\n",
       "0             Jarome Bell  Republican  11330  27.08%\n",
       "1   Andrew G. \"Andy\" Baan  Republican   1237   2.96%\n",
       "2     L. Tommy Altman III  Republican   5972  14.27%\n",
       "3          Jen A. Kiggans  Republican  23300  55.69%\n",
       "4             Jarome Bell  Republican   1006  52.34%\n",
       "..                                ...    ...     ...\n",
       "83         Jen A. Kiggans  Republican     35  37.23%\n",
       "84            Jarome Bell  Republican     63  44.68%\n",
       "85  Andrew G. \"Andy\" Baan  Republican      4   2.84%\n",
       "86    L. Tommy Altman III  Republican     10   7.09%\n",
       "87         Jen A. Kiggans  Republican     64  45.39%\n",
       "\n",
       "[88 rows x 3 columns]"
      ]
     },
     "execution_count": 37,
     "metadata": {},
     "output_type": "execute_result"
    }
   ],
   "source": [
    "cpage = pd.read_html(curl)\n",
    "cdat = pd.concat(cpage,ignore_index=True)\n",
    "cdat"
   ]
  }
 ],
 "metadata": {
  "kernelspec": {
   "display_name": "Python 3",
   "language": "python",
   "name": "python3"
  },
  "language_info": {
   "codemirror_mode": {
    "name": "ipython",
    "version": 3
   },
   "file_extension": ".py",
   "mimetype": "text/x-python",
   "name": "python",
   "nbconvert_exporter": "python",
   "pygments_lexer": "ipython3",
   "version": "3.8.5"
  }
 },
 "nbformat": 4,
 "nbformat_minor": 4
}
